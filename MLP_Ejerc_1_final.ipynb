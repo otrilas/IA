{
  "cells": [
    {
      "cell_type": "markdown",
      "metadata": {
        "id": "view-in-github",
        "colab_type": "text"
      },
      "source": [
        "<a href=\"https://colab.research.google.com/github/otrilas/IA/blob/main/MLP_Ejerc_1_final.ipynb\" target=\"_parent\"><img src=\"https://colab.research.google.com/assets/colab-badge.svg\" alt=\"Open In Colab\"/></a>"
      ]
    },
    {
      "cell_type": "markdown",
      "metadata": {
        "id": "H5JNYoTSGWr2"
      },
      "source": [
        "[![Open In Colab](https://colab.research.google.com/assets/colab-badge.svg)](https://colab.research.google.com/github/sensioai/blog/blob/master/025_mlp_framework/mlp_framework.ipynb)"
      ]
    },
    {
      "cell_type": "markdown",
      "metadata": {
        "id": "MkXF-qG3GWr5"
      },
      "source": [
        "# El Perceptrón Multicapa - Nuestro propio Framework"
      ]
    },
    {
      "cell_type": "markdown",
      "metadata": {
        "id": "CCoEY3T2GWr5"
      },
      "source": [
        "En el [post](https://sensioai.com/blog/024_mlp_clasificacion) anterior completamos una implementación del Perceptrón Multicapa capaz de llevar a cabo tareas de `regresión` y `clasificación`. Sin embargo, esta implementación tiene muchas limitaciones. Por ejemplo, sólo sirve para un perceptrón multicapa con una capa oculta con funciones de activación de tipo `relu`, entre otras. Aún así, programar todos los elementos envueltos en un arquitectura en concreto es muy útil para entender qué está pasando dentro de la `red neuronal` en todo momento. En este post vamos a mejorar la implementación para resolver estas limitaciones, haciendo nuestro propio framework inspirado en [Pytorch](https://pytorch.org/)."
      ]
    },
    {
      "cell_type": "markdown",
      "metadata": {
        "id": "c2rpTU-nGWr6"
      },
      "source": [
        "## Diseño de la API"
      ]
    },
    {
      "cell_type": "markdown",
      "metadata": {
        "id": "5PSRQZcCGWr6"
      },
      "source": [
        "Nuestro objetivo es el de ser capaces de resolver los problemas que hemos visto hasta ahora con una interfaz similar a la siguiente:"
      ]
    },
    {
      "cell_type": "markdown",
      "metadata": {
        "id": "48nkXTQeGWr8"
      },
      "source": [
        "En primer lugar, queremos definir nuestro `MLP` como una secuencia de capas, las cuales pasaremos como una lista a la clase `MLP`. Como puedes ver, de esta manera, podemos usar diferentes funciones de activación simplemente cambiando la clase utilizada. Después, definiremos los objetos `optimizer` y `loss` como clases particulares de manera que podamos, de manera totalmente transparente, utilizar diferentes funciones de pérdida o algoritmos de optimización simplemente cambiando la clase en cuestión. Por último, en el bucle de entrenamiento, querremos ser capaces de calcular la salida del modelo, gradientes y actualizar los pesos de manera automática. Vamos a ver cómo conseguirlo en las siguientes secciones."
      ]
    },
    {
      "cell_type": "markdown",
      "metadata": {
        "id": "r0NG6W9zGWr8"
      },
      "source": [
        "## MLP y Capas"
      ]
    },
    {
      "cell_type": "markdown",
      "metadata": {
        "id": "KeRO-27pGWr9"
      },
      "source": [
        "Vamos a empezar definiendo nuestra clase `MLP`. Como ya hemos comentado, esta clase estará formada por una lista de capas y simplemente se encargará de calcular la salida del modelo aplicando cada capa de manera secuencial."
      ]
    },
    {
      "cell_type": "code",
      "execution_count": 1,
      "metadata": {
        "ExecuteTime": {
          "end_time": "2020-08-10T13:13:12.785890Z",
          "start_time": "2020-08-10T13:13:12.775889Z"
        },
        "id": "7L43lih_GWr-"
      },
      "outputs": [],
      "source": [
        "class MLP:\n",
        "    def __init__(self, layers):\n",
        "        # el MLP es una lista de capas\n",
        "        self.layers = layers\n",
        "\n",
        "    def __call__(self, x):\n",
        "        # calculamos la salida del modelo aplicando\n",
        "        # cada capa de manera secuencial\n",
        "        for layer in self.layers:\n",
        "            x = layer(x)\n",
        "        return x"
      ]
    },
    {
      "cell_type": "markdown",
      "metadata": {
        "id": "atazfWrEGWr-"
      },
      "source": [
        "Ahora definimos las diferentes capas que necesitamos. En primer lugar tendremos una clase base que contendrá los elementos y funcionalidad común de cada capa. Esta clase contendrá una lista con los parámetros entrenables de la capa y sus gradientes."
      ]
    },
    {
      "cell_type": "code",
      "execution_count": 2,
      "metadata": {
        "ExecuteTime": {
          "end_time": "2020-08-10T13:13:13.130767Z",
          "start_time": "2020-08-10T13:13:13.123088Z"
        },
        "id": "PQN7opa3GWr-"
      },
      "outputs": [],
      "source": [
        "class Layer():\n",
        "    def __init__(self):\n",
        "        self.params = []\n",
        "        self.grads = []\n",
        "\n",
        "    def __call__(self, x):\n",
        "        # por defecto, devolver los inputs\n",
        "        # cada capa hará algo diferente aquí\n",
        "        return x\n",
        "\n",
        "    def backward(self, grad):\n",
        "        # cada capa, calculará sus gradientes\n",
        "        # y los devolverá para las capas siguientes\n",
        "        return grad\n",
        "\n",
        "    def update(self, params):\n",
        "        # si hay parámetros, los actualizaremos\n",
        "        # con lo que nos de el optimizer\n",
        "        return"
      ]
    },
    {
      "cell_type": "markdown",
      "metadata": {
        "id": "4DvDhyYxGWr_"
      },
      "source": [
        "Ahora podemos definir las diferentes capas que utilizaremos. Hasta ahora sólo hemos visto la capa lineal y diferentes funciones de activación."
      ]
    },
    {
      "cell_type": "code",
      "execution_count": 3,
      "metadata": {
        "ExecuteTime": {
          "end_time": "2020-08-10T13:13:13.413081Z",
          "start_time": "2020-08-10T13:13:13.396082Z"
        },
        "id": "dE1ly_ESGWr_"
      },
      "outputs": [],
      "source": [
        "class Linear(Layer):\n",
        "    def __init__(self, d_in, d_out):\n",
        "        # pesos de la capa\n",
        "        self.w = np.random.normal(loc=0.0,\n",
        "                                  scale=np.sqrt(2/(d_in+d_out)),\n",
        "                                  size=(d_in, d_out))\n",
        "        self.b = np.zeros(d_out)\n",
        "\n",
        "    def __call__(self, x):\n",
        "        self.x = x\n",
        "        self.params = [self.w, self.b]\n",
        "        # salida del preceptrón\n",
        "        return np.dot(x, self.w) + self.b    \n",
        "    \n",
        "    def backward(self, grad_output):\n",
        "        # gradientes para la capa siguiente (BACKPROP)\n",
        "        grad = np.dot(grad_output, self.w.T)\n",
        "        self.grad_w = np.dot(self.x.T, grad_output)\n",
        "        # gradientes para actualizar pesos\n",
        "        self.grad_b = grad_output.mean(axis=0)*self.x.shape[0]\n",
        "        self.grads = [self.grad_w, self.grad_b]\n",
        "        return grad\n",
        "\n",
        "    def update(self, params):\n",
        "        self.w, self.b = params"
      ]
    },
    {
      "cell_type": "code",
      "execution_count": 4,
      "metadata": {
        "ExecuteTime": {
          "end_time": "2020-08-10T13:13:13.553974Z",
          "start_time": "2020-08-10T13:13:13.534217Z"
        },
        "id": "QadcXBniGWsA"
      },
      "outputs": [],
      "source": [
        "class ReLU(Layer):\n",
        "    def __call__(self, x):\n",
        "        self.x = x\n",
        "        return np.maximum(0, x)\n",
        "\n",
        "    def backward(self, grad_output):\n",
        "        grad = self.x > 0\n",
        "        return grad_output*grad\n",
        "    \n",
        "def sigmoid(x):\n",
        "  return 1 / (1 + np.exp(-x))\n",
        "\n",
        "def softmax(x):\n",
        "    return np.exp(x) / np.exp(x).sum(axis=-1,keepdims=True)\n",
        "\n",
        "class Sigmoid(Layer):    \n",
        "    def __call__(self, x):\n",
        "        self.x = x\n",
        "        return sigmoid(x)\n",
        "\n",
        "    def backward(self, grad_output):\n",
        "        grad = sigmoid(self.x)*(1 - sigmoid(self.x))\n",
        "        return grad_output*grad"
      ]
    },
    {
      "cell_type": "markdown",
      "metadata": {
        "id": "NpImfYw9GWsA"
      },
      "source": [
        "## Optimizador"
      ]
    },
    {
      "cell_type": "markdown",
      "metadata": {
        "id": "k38ExUxLGWsA"
      },
      "source": [
        "De momento solo conocemos un algoritmo de optimización, el `descenso por gradiente`. En este algoritmo, iteraremos por todas las capas del `MLP` actualizando los parámetros."
      ]
    },
    {
      "cell_type": "code",
      "execution_count": 5,
      "metadata": {
        "ExecuteTime": {
          "end_time": "2020-08-10T13:13:13.980603Z",
          "start_time": "2020-08-10T13:13:13.975081Z"
        },
        "id": "hvZ7cqVBGWsB"
      },
      "outputs": [],
      "source": [
        "class SGD():\n",
        "    def __init__(self, net, lr):\n",
        "        self.net = net\n",
        "        self.lr = lr\n",
        "\n",
        "    def update(self):\n",
        "        for layer in self.net.layers:\n",
        "            layer.update([\n",
        "                params - self.lr*grads\n",
        "                for params, grads in zip(layer.params, layer.grads)\n",
        "            ])"
      ]
    },
    {
      "cell_type": "markdown",
      "metadata": {
        "id": "hTfd8tGOGWsB"
      },
      "source": [
        "Puedes probar algoritmos de optimización diferentes simplemente creando una nueva clase con una regla distinta para la actualización de los pesos. En futuros posts exploraremos optimizadores alternativos. Esta clase sólo se encarga de aplicar los gradientes en una manera determinada para actualizar los pesos, el cálculo de los gradientes depende de cada capa en concreto."
      ]
    },
    {
      "cell_type": "markdown",
      "metadata": {
        "id": "siv6kN6uGWsB"
      },
      "source": [
        "## Funciones de pérdida"
      ]
    },
    {
      "cell_type": "markdown",
      "metadata": {
        "id": "JGs0eOwhGWsB"
      },
      "source": [
        "Del mismo modo que hemos hecho para las capas, vamos a implementar una clase base para calcular funciones de pérdida con la funcionalidad común y después tendremos clases particulares para las diferentes funciones de pérdida que conocemos."
      ]
    },
    {
      "cell_type": "code",
      "execution_count": 6,
      "metadata": {
        "ExecuteTime": {
          "end_time": "2020-08-10T13:13:14.563035Z",
          "start_time": "2020-08-10T13:13:14.545038Z"
        },
        "id": "BPkv8UpqGWsC"
      },
      "outputs": [],
      "source": [
        "class Loss():\n",
        "    def __init__(self, net):\n",
        "        self.net = net\n",
        "\n",
        "    def backward(self):\n",
        "        # derivada de la loss function con respecto \n",
        "        # a la salida del MLP\n",
        "        grad = self.grad_loss()\n",
        "        # BACKPROPAGATION\n",
        "        for layer in reversed(self.net.layers):\n",
        "            grad = layer.backward(grad)\n",
        "            \n",
        "class MSE(Loss):\n",
        "    def __call__(self, output, target):\n",
        "        self.output, self.target = output, target.reshape(output.shape)\n",
        "        loss = np.mean((self.output - self.target)**2)\n",
        "        return loss.mean()\n",
        "\n",
        "    def grad_loss(self):\n",
        "        return self.output -  self.target\n",
        "    \n",
        "class BCE(Loss):\n",
        "    def __call__(self, output, target):\n",
        "        self.output, self.target = output, target.reshape(output.shape)\n",
        "        loss = - np.mean(self.target*np.log(self.output) - (1 - self.target)*np.log(1 - self.output))\n",
        "        return loss.mean()\n",
        "\n",
        "    def grad_loss(self):\n",
        "        return self.output -  self.target\n",
        "            \n",
        "class CrossEntropy(Loss):\n",
        "    def __call__(self, output, target):\n",
        "        self.output, self.target = output, target\n",
        "        logits = output[np.arange(len(output)), target]\n",
        "        loss = - logits + np.log(np.sum(np.exp(output), axis=-1))\n",
        "        loss = loss.mean()\n",
        "        return loss\n",
        "\n",
        "    def grad_loss(self):\n",
        "        answers = np.zeros_like(self.output)\n",
        "        answers[np.arange(len(self.output)), self.target] = 1\n",
        "        return (- answers + softmax(self.output)) / self.output.shape[0]"
      ]
    },
    {
      "cell_type": "markdown",
      "metadata": {
        "id": "zDYvNzDrGWsC"
      },
      "source": [
        "La clase que utilicemos como función de pérdida tendrá la responsabilidad de llevar a cabo el algoritmo de `backpropagation`, propagando los gradientes desde la última capa hasta la primera para que, más tarde, el optimizador pueda actualizar los pesos."
      ]
    },
    {
      "cell_type": "markdown",
      "metadata": {
        "id": "LgcO2z9oGWsC"
      },
      "source": [
        "## Probando la implementación"
      ]
    },
    {
      "cell_type": "markdown",
      "metadata": {
        "ExecuteTime": {
          "end_time": "2020-08-10T12:42:20.221071Z",
          "start_time": "2020-08-10T12:42:20.202060Z"
        },
        "id": "vXUSk7MiGWsC"
      },
      "source": [
        "En este punto tenemos todas las clases que necesitamos para resolver nuestros casos de interés."
      ]
    },
    {
      "cell_type": "markdown",
      "metadata": {
        "id": "pdWxhg12GWsC"
      },
      "source": [
        "### Regresión"
      ]
    },
    {
      "cell_type": "markdown",
      "metadata": {
        "id": "97-3FZpWGWsC"
      },
      "source": [
        "Empezamos con el caso de la regresión (en este caso directamente no lineal)."
      ]
    },
    {
      "cell_type": "markdown",
      "metadata": {
        "id": "JxBX1eTlGWsD"
      },
      "source": [
        "Para ello usamos una función de activación de tipo `MSE` con una función de activación lineal en la última capa."
      ]
    },
    {
      "cell_type": "markdown",
      "metadata": {
        "id": "uLelteeLGWsF"
      },
      "source": [
        "### Clasificación Binaria"
      ]
    },
    {
      "cell_type": "markdown",
      "metadata": {
        "id": "5k_Uztc1GWsF"
      },
      "source": [
        "Vamos a probar nuestro framework para clasificación con el dataset *Iris*."
      ]
    },
    {
      "cell_type": "code",
      "execution_count": 8,
      "metadata": {
        "ExecuteTime": {
          "end_time": "2020-08-10T13:14:19.641175Z",
          "start_time": "2020-08-10T13:14:19.624634Z"
        },
        "id": "h2M90NqrGWsF"
      },
      "outputs": [],
      "source": [
        "# utilizado para manejos de directorios y rutas\n",
        "import os\n",
        "\n",
        "# Computacion vectorial y cientifica para python\n",
        "import numpy as np\n",
        "import pandas as pd\n",
        "import sys\n",
        "# Librerias para graficación (trazado de gráficos)\n",
        "from matplotlib import pyplot\n",
        "from mpl_toolkits.mplot3d import Axes3D  # Necesario para graficar superficies 3D\n",
        "import matplotlib.pyplot as plt\n",
        "# llama a matplotlib a embeber graficas dentro de los cuadernillos\n",
        "%matplotlib inline"
      ]
    },
    {
      "cell_type": "code",
      "source": [
        "data = np.loadtxt('DATASET_Preg_1.csv', delimiter=';')\n",
        "X, y = data[:,: 17], data[:,17]\n",
        "print(X.shape, y.shape)"
      ],
      "metadata": {
        "id": "S8lsqs7c6NvW",
        "outputId": "215ecb72-fb31-428e-9baa-6467af4db489",
        "colab": {
          "base_uri": "https://localhost:8080/"
        }
      },
      "execution_count": 9,
      "outputs": [
        {
          "output_type": "stream",
          "name": "stdout",
          "text": [
            "(840, 17) (840,)\n"
          ]
        }
      ]
    },
    {
      "cell_type": "code",
      "source": [
        "X_mean, X_std = X.mean(axis=0), X.std(axis=0)\n",
        "X_norm = (X - X_mean) / X_std"
      ],
      "metadata": {
        "id": "Vxz5cy5E6TsP"
      },
      "execution_count": 10,
      "outputs": []
    },
    {
      "cell_type": "code",
      "source": [
        "X_train, X_test, y_train, y_test = X_norm[:820], X_norm[820:], y[:820], y[820:]"
      ],
      "metadata": {
        "id": "lacl9FqW6Wp4"
      },
      "execution_count": 11,
      "outputs": []
    },
    {
      "cell_type": "markdown",
      "metadata": {
        "id": "fv5Ow-8AGWsG"
      },
      "source": [
        "Para llevar a cabo la tarea de clasificación binaria, usamos una función de activación `Sigmoid` en la última capa junto a la función de activación `Binary Cross Entropy`."
      ]
    },
    {
      "cell_type": "markdown",
      "metadata": {
        "id": "ToU49GTcGWsG"
      },
      "source": [
        "Vamos a entrenar un `MLP` en el caso de la clasificación de las flores *Iris Versicolor*, una clase que no es linealmente separable, con más capas y neuronas."
      ]
    },
    {
      "cell_type": "code",
      "execution_count": 12,
      "metadata": {
        "ExecuteTime": {
          "end_time": "2020-08-10T13:15:22.164847Z",
          "start_time": "2020-08-10T13:15:21.780335Z"
        },
        "id": "yJr51VIYGWsH",
        "outputId": "4bc838d9-1834-4b19-9bbd-2275ac6d5e66",
        "colab": {
          "base_uri": "https://localhost:8080/"
        }
      },
      "outputs": [
        {
          "output_type": "stream",
          "name": "stdout",
          "text": [
            "Epoch 1000/10000, Loss: 0.1815\n",
            "Epoch 2000/10000, Loss: 0.0551\n",
            "Epoch 3000/10000, Loss: 0.0028\n",
            "Epoch 4000/10000, Loss: -0.0194\n",
            "Epoch 5000/10000, Loss: -0.0264\n",
            "Epoch 6000/10000, Loss: -0.0274\n",
            "Epoch 7000/10000, Loss: -0.0271\n",
            "Epoch 8000/10000, Loss: -0.0272\n",
            "Epoch 9000/10000, Loss: -0.0273\n",
            "Epoch 10000/10000, Loss: -0.0277\n"
          ]
        }
      ],
      "source": [
        "D_in, H, D_out = 17, 50, 1\n",
        "mlp = MLP([\n",
        "    Linear(D_in, H),\n",
        "    ReLU(),\n",
        "    Linear(H, H),\n",
        "    ReLU(),\n",
        "    Linear(H, H),\n",
        "    ReLU(),\n",
        "    Linear(H, H),\n",
        "    ReLU(),\n",
        "    Linear(H, H),\n",
        "    ReLU(),\n",
        "    Linear(H, D_out),\n",
        "    Sigmoid()\n",
        "])\n",
        "\n",
        "optimizer = SGD(mlp, lr=0.00001)\n",
        "loss = BCE(mlp)\n",
        "\n",
        "epochs = 10000\n",
        "batch_size = 100\n",
        "\n",
        "batches = len(X) // batch_size\n",
        "log_each = 1000\n",
        "l = []\n",
        "for e in range(1,epochs+1):\n",
        "    _l = []\n",
        "    for b in range(batches):\n",
        "        x = X_train[b*batch_size:(b+1)*batch_size]\n",
        "        y = y_train[b*batch_size:(b+1)*batch_size] \n",
        "        y_pred = mlp(x)    \n",
        "        _l.append(loss(y_pred, y))\n",
        "        loss.backward()    \n",
        "        optimizer.update()\n",
        "    l.append(np.mean(_l))\n",
        "    if not e % log_each:\n",
        "        print(f'Epoch {e}/{epochs}, Loss: {np.mean(l):.4f}')"
      ]
    },
    {
      "cell_type": "code",
      "source": [
        "x_new = [26,2017,5,5,3,1,1,1,45000,5,8,1400,1,1,2,2,15000]\n",
        "x_new = (x_new-X_mean)/X_std\n",
        "y_predd = mlp(x_new)\n",
        "print(\"prediccion 1\")\n",
        "print(y_predd)\n",
        "\n",
        "##Predicion 1 tiene que dar\n",
        "x_new2 = [2,2018,4,4,2,3,1,1,18000,14,4,3500,1,1,2,1,42000]\n",
        "x_new2 = (x_new2-X_mean)/X_std\n",
        "y_predd2 = mlp(x_new2)\n",
        "print(\"prediccion 2\")\n",
        "print(y_predd2)\n",
        "\n",
        "##Predicion 0 tiene que dar\n",
        "x_new3 = [34,2003,5,9,3,3,4,3,6373813,10,8,11260,1,1,2,3,83741]\n",
        "x_new3 = (x_new3-X_mean)/X_std\n",
        "y_predd3 = mlp(x_new3)\n",
        "print(\"prediccion 3\")\n",
        "print(y_predd3)\n",
        "\n",
        "\n",
        "##Predicion 0 tiene que dar\n",
        "x_new4 = [35,2012,5,5,2,1,2,1,6000,2,3,2000,1,1,2,1,34000]\n",
        "x_new4 = (x_new4-X_mean)/X_std\n",
        "y_predd4 = mlp(x_new4)\n",
        "print(\"prediccion 3\")\n",
        "print(y_predd4)"
      ],
      "metadata": {
        "id": "e8S9_AdA94y_",
        "outputId": "b0800c14-3207-4789-ba9e-3aa785891688",
        "colab": {
          "base_uri": "https://localhost:8080/"
        }
      },
      "execution_count": 25,
      "outputs": [
        {
          "output_type": "stream",
          "name": "stdout",
          "text": [
            "prediccion 1\n",
            "[0.77280576]\n",
            "prediccion 2\n",
            "[0.08923189]\n",
            "prediccion 3\n",
            "[0.03487176]\n",
            "prediccion 3\n",
            "[0.12063901]\n"
          ]
        }
      ]
    },
    {
      "cell_type": "code",
      "source": [
        "######################################################### datos   "
      ],
      "metadata": {
        "id": "f0khh4r27SG3"
      },
      "execution_count": null,
      "outputs": []
    },
    {
      "cell_type": "code",
      "source": [
        "# utilizado para manejos de directorios y rutas\n",
        "import os\n",
        "\n",
        "# Computacion vectorial y cientifica para python\n",
        "import numpy as np\n",
        "import pandas as pd\n",
        "import sys\n",
        "# Librerias para graficación (trazado de gráficos)\n",
        "from matplotlib import pyplot\n",
        "from mpl_toolkits.mplot3d import Axes3D  # Necesario para graficar superficies 3D\n",
        "import matplotlib.pyplot as plt\n",
        "# llama a matplotlib a embeber graficas dentro de los cuadernillos\n",
        "%matplotlib inline"
      ],
      "metadata": {
        "id": "6knxXAbm7Vie"
      },
      "execution_count": 14,
      "outputs": []
    },
    {
      "cell_type": "code",
      "source": [
        "data = np.loadtxt('Dataset_Pre_1_Datos.csv', delimiter=';')\n",
        "X1, y1 = data[:,: 17], data[:,17]\n",
        "print(X1.shape, y1.shape)"
      ],
      "metadata": {
        "id": "JNvwyGfc7ZsG",
        "outputId": "2c8c6320-70d3-40d0-dedf-d940c31b6fef",
        "colab": {
          "base_uri": "https://localhost:8080/"
        }
      },
      "execution_count": 15,
      "outputs": [
        {
          "output_type": "stream",
          "name": "stdout",
          "text": [
            "(1199, 17) (1199,)\n"
          ]
        }
      ]
    },
    {
      "cell_type": "code",
      "source": [
        "X_mean1, X_std1 = X1.mean(axis=0), X1.std(axis=0)\n",
        "X_norm1 = (X - X_mean1) / X_std1"
      ],
      "metadata": {
        "id": "sMqCGC6M7ewn"
      },
      "execution_count": 18,
      "outputs": []
    },
    {
      "cell_type": "code",
      "source": [
        "X_train1, X_test1, y_train1, y_test1 = X_norm1[:1139], X_norm1[1139:], y1[:1139], y1[1139:]"
      ],
      "metadata": {
        "id": "PNoVk3d-7jc3"
      },
      "execution_count": 19,
      "outputs": []
    },
    {
      "cell_type": "code",
      "source": [
        "D_in, H, D_out = 17, 20, 1\n",
        "mlp = MLP([\n",
        "    Linear(D_in, H),\n",
        "    ReLU(),\n",
        "    Linear(H, H),\n",
        "    ReLU(),\n",
        "    Linear(H, H),\n",
        "    ReLU(),\n",
        "    Linear(H, H),\n",
        "    ReLU(),\n",
        "    Linear(H, H),\n",
        "    ReLU(),\n",
        "    Linear(H, D_out),\n",
        "    Sigmoid()\n",
        "])\n",
        "\n",
        "optimizer = SGD(mlp, lr=0.0001)\n",
        "loss = BCE(mlp)\n",
        "\n",
        "epochs = 10000\n",
        "batch_size = 100\n",
        "\n",
        "batches = len(X) // batch_size\n",
        "log_each = 1000\n",
        "l = []\n",
        "for e in range(1,epochs+1):\n",
        "    _l = []\n",
        "    for b in range(batches):\n",
        "        x = X_train1[b*batch_size:(b+1)*batch_size]\n",
        "        y = y_train1[b*batch_size:(b+1)*batch_size] \n",
        "        y_pred = mlp(x)    \n",
        "        _l.append(loss(y_pred, y))\n",
        "        loss.backward()    \n",
        "        optimizer.update()\n",
        "    l.append(np.mean(_l))\n",
        "    if not e % log_each:\n",
        "        print(f'Epoch {e}/{epochs}, Loss: {np.mean(l):.4f}')"
      ],
      "metadata": {
        "id": "1ZUDQwgj7oYn",
        "outputId": "3db8d06c-7f48-46b5-a5f0-c1ed7266f3f2",
        "colab": {
          "base_uri": "https://localhost:8080/"
        }
      },
      "execution_count": 20,
      "outputs": [
        {
          "output_type": "stream",
          "name": "stdout",
          "text": [
            "Epoch 1000/10000, Loss: -0.0417\n",
            "Epoch 2000/10000, Loss: -0.0454\n",
            "Epoch 3000/10000, Loss: -0.0496\n",
            "Epoch 4000/10000, Loss: -0.0553\n",
            "Epoch 5000/10000, Loss: -0.0594\n",
            "Epoch 6000/10000, Loss: -0.0617\n",
            "Epoch 7000/10000, Loss: -0.0631\n",
            "Epoch 8000/10000, Loss: -0.0639\n",
            "Epoch 9000/10000, Loss: -0.0643\n",
            "Epoch 10000/10000, Loss: -0.0646\n"
          ]
        }
      ]
    },
    {
      "cell_type": "code",
      "source": [
        "##Predicion 1 tiene que dar\n",
        "x_new = [26,2017,5,5,3,1,1,1,45000,5,8,1400,1,1,2,2,15000]\n",
        "x_new = (x_new-X_mean1)/X_std1\n",
        "y_predd = mlp(x_new)\n",
        "print(\"prediccion 1\")\n",
        "print(y_predd)\n",
        "\n",
        "##Predicion 1 tiene que dar\n",
        "x_new2 = [2,2018,4,4,2,3,1,1,18000,14,4,3500,1,1,2,1,42000]\n",
        "x_new2 = (x_new2-X_mean1)/X_std1\n",
        "y_predd2 = mlp(x_new2)\n",
        "print(\"prediccion 2\")\n",
        "print(y_predd2)\n",
        "\n",
        "##Predicion 0 tiene que dar\n",
        "x_new3 = [34,2003,5,9,3,3,4,3,6373813,10,8,11260,1,1,2,3,83741]\n",
        "x_new3 = (x_new3-X_mean1)/X_std1\n",
        "y_predd3 = mlp(x_new3)\n",
        "print(\"prediccion 3\")\n",
        "print(y_predd3)\n",
        "\n",
        "##Predicion 0 tiene que dar\n",
        "x_new4 = [35,2012,5,5,2,1,2,1,6000,2,3,2000,1,1,2,1,50000]\n",
        "x_new4 = (x_new4-X_mean1)/X_std1\n",
        "y_predd4 = mlp(x_new4)\n",
        "print(\"prediccion 3\")\n",
        "print(y_predd4)"
      ],
      "metadata": {
        "id": "lL5BKCmnKl0Q",
        "outputId": "322c26f0-9398-46ef-b651-0c8166c8985a",
        "colab": {
          "base_uri": "https://localhost:8080/"
        }
      },
      "execution_count": 22,
      "outputs": [
        {
          "output_type": "stream",
          "name": "stdout",
          "text": [
            "prediccion 1\n",
            "[0.9900992]\n",
            "prediccion 2\n",
            "[0.98589797]\n",
            "prediccion 3\n",
            "[0.08898923]\n",
            "prediccion 3\n",
            "[0.24357993]\n"
          ]
        }
      ]
    },
    {
      "cell_type": "markdown",
      "metadata": {
        "id": "VJC2pFWgGWsH"
      },
      "source": [
        "Como puedes ver, nuestro framework ahora es flexible a la vez que funcional."
      ]
    },
    {
      "cell_type": "markdown",
      "metadata": {
        "id": "Rh0V4GxbGWsH"
      },
      "source": [
        "### Clasificación Multiclase"
      ]
    },
    {
      "cell_type": "markdown",
      "metadata": {
        "id": "LV5imO3iGWsH"
      },
      "source": [
        "Por último, resolvemos el caso de clasificación multiclase."
      ]
    },
    {
      "cell_type": "markdown",
      "metadata": {
        "id": "1o-KEt0wGWsI"
      },
      "source": [
        "Para ello ya sabemos que tenemos que usar la función de pérdida `CrossEntropy` con función de activación lineal en la última capa."
      ]
    },
    {
      "cell_type": "code",
      "execution_count": null,
      "metadata": {
        "ExecuteTime": {
          "end_time": "2020-08-10T13:16:59.934417Z",
          "start_time": "2020-08-10T13:16:59.511295Z"
        },
        "id": "p0adQMpsGWsI",
        "outputId": "35d4aff5-3453-4920-c61c-a1c3363d351c"
      },
      "outputs": [
        {
          "name": "stdout",
          "output_type": "stream",
          "text": [
            "Epoch 10/100, Loss: 0.7623\n",
            "Epoch 20/100, Loss: 0.5704\n",
            "Epoch 30/100, Loss: 0.4458\n",
            "Epoch 40/100, Loss: 0.3658\n",
            "Epoch 50/100, Loss: 0.3130\n",
            "Epoch 60/100, Loss: 0.2762\n",
            "Epoch 70/100, Loss: 0.2491\n",
            "Epoch 80/100, Loss: 0.2285\n",
            "Epoch 90/100, Loss: 0.2122\n",
            "Epoch 100/100, Loss: 0.1991\n"
          ]
        }
      ],
      "source": [
        "D_in, H, D_out = 2, 100, 3\n",
        "mlp = MLP([\n",
        "    Linear(D_in, H),\n",
        "    ReLU(),\n",
        "    Linear(H, H),\n",
        "    ReLU(),\n",
        "    Linear(H, H),\n",
        "    ReLU(),\n",
        "    Linear(H, D_out)\n",
        "])\n",
        "\n",
        "optimizer = SGD(mlp, lr=0.02)\n",
        "loss = CrossEntropy(mlp)\n",
        "\n",
        "epochs = 100\n",
        "batch_size = 10\n",
        "\n",
        "batches = len(X) // batch_size\n",
        "log_each = 10\n",
        "l = []\n",
        "for e in range(1,epochs+1):\n",
        "    _l = []\n",
        "    for b in range(batches):\n",
        "        x = X_norm[b*batch_size:(b+1)*batch_size]\n",
        "        y = Y[b*batch_size:(b+1)*batch_size] \n",
        "        y_pred = mlp(x)    \n",
        "        _l.append(loss(y_pred, y))\n",
        "        loss.backward()    \n",
        "        optimizer.update()\n",
        "    l.append(np.mean(_l))\n",
        "    if not e % log_each:\n",
        "        print(f'Epoch {e}/{epochs}, Loss: {np.mean(l):.4f}')"
      ]
    },
    {
      "cell_type": "code",
      "execution_count": null,
      "metadata": {
        "ExecuteTime": {
          "end_time": "2020-08-10T13:17:00.930108Z",
          "start_time": "2020-08-10T13:17:00.525463Z"
        },
        "id": "sw9i5K-GGWsI",
        "outputId": "cb096c21-b997-4f2e-b582-7a7438a43028"
      },
      "outputs": [
        {
          "data": {
            "image/png": "[encoded data removed]",
            "text/plain": [
              "<Figure size 432x288 with 1 Axes>"
            ]
          },
          "metadata": {
            "needs_background": "light"
          },
          "output_type": "display_data"
        }
      ],
      "source": [
        "resolution=0.02\n",
        "markers = ('s', 'x', 'o', '^', 'v')\n",
        "colors = ('red', 'blue', 'lightgreen', 'gray', 'cyan')\n",
        "cmap = ListedColormap(colors[:len(np.unique(Y))])\n",
        "\n",
        "# plot the decision surface\n",
        "x1_min, x1_max = X[:, 0].min() - 1, X[:, 0].max() + 1\n",
        "x2_min, x2_max = X[:, 1].min() - 1, X[:, 1].max() + 1\n",
        "xx1, xx2 = np.meshgrid(np.arange(x1_min, x1_max, resolution),\n",
        "                       np.arange(x2_min, x2_max, resolution))\n",
        "X_new = (np.array([xx1.ravel(), xx2.ravel()]).T - X_mean)/X_std\n",
        "Z = mlp(X_new)\n",
        "Z = np.argmax(softmax(Z), axis=1) \n",
        "Z = Z.reshape(xx1.shape)\n",
        "plt.contourf(xx1, xx2, Z, alpha=0.3, cmap=cmap)\n",
        "plt.xlim(xx1.min(), xx1.max())\n",
        "plt.ylim(xx2.min(), xx2.max())\n",
        "plt.xlabel('petal length', fontsize=14)\n",
        "plt.ylabel('petal width', fontsize=14)\n",
        "classes = [\"Iris-Setosa\", \"Iris-Versicolor\", \"Iris-Virginica\"]\n",
        "for idx, cl in enumerate(np.unique(Y)):\n",
        "    plt.scatter(x=X[Y == cl, 0], \n",
        "                y=X[Y == cl, 1],\n",
        "                alpha=0.8, \n",
        "                c=colors[idx],\n",
        "                marker=markers[idx], \n",
        "                label=classes[cl], \n",
        "                edgecolor='black')\n",
        "plt.legend(loc='upper left', fontsize=14)\n",
        "plt.show()"
      ]
    },
    {
      "cell_type": "markdown",
      "metadata": {
        "id": "kP7KjOVZGWsI"
      },
      "source": [
        "## Resumen"
      ]
    },
    {
      "cell_type": "markdown",
      "metadata": {
        "id": "A--jPJUdGWsI"
      },
      "source": [
        "En este post hemos visto como podemos implementar nuestro propio framework de perceptrón multicapa. Las ideas expuestas son muy similares a las utilizadas internamente por frameworks de `redes neuronales` como `Pytorch` o `Tensorflow`, lo cual nos permitirá conocer en detalle como funcionan estos frameworks a la hora de trabajar con arquitecturas más complicadas. Nuestro framework es flexible, ya que con la misma interfaz es capaz de llevar a cabo las diferentes tareas y de manera muy sencilla podemos probar diferentes arquitecturas de `MLP` con más o menos capas, diferentes funciones de pérdida y de activación, etc. En este [post](https://sensioai.com/blog/017_clasificacion_multiclase) utilizamos el dataset MNIST para clasificación de imágenes, ¿te ves capaz de utilizar nuestro framework para esta tarea?"
      ]
    }
  ],
  "metadata": {
    "kernelspec": {
      "display_name": "Python 3",
      "language": "python",
      "name": "python3"
    },
    "language_info": {
      "codemirror_mode": {
        "name": "ipython",
        "version": 3
      },
      "file_extension": ".py",
      "mimetype": "text/x-python",
      "name": "python",
      "nbconvert_exporter": "python",
      "pygments_lexer": "ipython3",
      "version": "3.7.6"
    },
    "toc": {
      "base_numbering": 1,
      "nav_menu": {},
      "number_sections": true,
      "sideBar": true,
      "skip_h1_title": false,
      "title_cell": "Table of Contents",
      "title_sidebar": "Contents",
      "toc_cell": false,
      "toc_position": {
        "height": "calc(100% - 180px)",
        "left": "10px",
        "top": "150px",
        "width": "233.594px"
      },
      "toc_section_display": true,
      "toc_window_display": false
    },
    "colab": {
      "name": "MLP_Ejerc_1_final.ipynb",
      "provenance": [],
      "include_colab_link": true
    }
  },
  "nbformat": 4,
  "nbformat_minor": 0
}