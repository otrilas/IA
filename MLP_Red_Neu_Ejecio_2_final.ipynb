{
  "cells": [
    {
      "cell_type": "markdown",
      "metadata": {
        "id": "view-in-github",
        "colab_type": "text"
      },
      "source": [
        "<a href=\"https://colab.research.google.com/github/otrilas/IA/blob/main/MLP_Red_Neu_Ejecio_2_final.ipynb\" target=\"_parent\"><img src=\"https://colab.research.google.com/assets/colab-badge.svg\" alt=\"Open In Colab\"/></a>"
      ]
    },
    {
      "cell_type": "markdown",
      "metadata": {
        "id": "b3vcc9MQayqa"
      },
      "source": [
        "[![Open In Colab](https://colab.research.google.com/assets/colab-badge.svg)](https://colab.research.google.com/github/sensioai/blog/blob/master/025_mlp_framework/mlp_framework.ipynb)"
      ]
    },
    {
      "cell_type": "markdown",
      "metadata": {
        "id": "CiKMT3dUayqd"
      },
      "source": [
        "# El Perceptrón Multicapa - Nuestro propio Framework"
      ]
    },
    {
      "cell_type": "markdown",
      "metadata": {
        "id": "bpSFHsuuayqe"
      },
      "source": [
        "En el [post](https://sensioai.com/blog/024_mlp_clasificacion) anterior completamos una implementación del Perceptrón Multicapa capaz de llevar a cabo tareas de `regresión` y `clasificación`. Sin embargo, esta implementación tiene muchas limitaciones. Por ejemplo, sólo sirve para un perceptrón multicapa con una capa oculta con funciones de activación de tipo `relu`, entre otras. Aún así, programar todos los elementos envueltos en un arquitectura en concreto es muy útil para entender qué está pasando dentro de la `red neuronal` en todo momento. En este post vamos a mejorar la implementación para resolver estas limitaciones, haciendo nuestro propio framework inspirado en [Pytorch](https://pytorch.org/)."
      ]
    },
    {
      "cell_type": "markdown",
      "metadata": {
        "id": "mazSFzc9ayqe"
      },
      "source": [
        "## Diseño de la API"
      ]
    },
    {
      "cell_type": "markdown",
      "metadata": {
        "id": "wZOKBerwayqf"
      },
      "source": [
        "Nuestro objetivo es el de ser capaces de resolver los problemas que hemos visto hasta ahora con una interfaz similar a la siguiente:"
      ]
    },
    {
      "cell_type": "markdown",
      "metadata": {
        "id": "2kdCri47ayqg"
      },
      "source": [
        "En primer lugar, queremos definir nuestro `MLP` como una secuencia de capas, las cuales pasaremos como una lista a la clase `MLP`. Como puedes ver, de esta manera, podemos usar diferentes funciones de activación simplemente cambiando la clase utilizada. Después, definiremos los objetos `optimizer` y `loss` como clases particulares de manera que podamos, de manera totalmente transparente, utilizar diferentes funciones de pérdida o algoritmos de optimización simplemente cambiando la clase en cuestión. Por último, en el bucle de entrenamiento, querremos ser capaces de calcular la salida del modelo, gradientes y actualizar los pesos de manera automática. Vamos a ver cómo conseguirlo en las siguientes secciones."
      ]
    },
    {
      "cell_type": "markdown",
      "metadata": {
        "id": "BBR8yjdrayqh"
      },
      "source": [
        "## MLP y Capas"
      ]
    },
    {
      "cell_type": "markdown",
      "metadata": {
        "id": "kTuIANJDayqi"
      },
      "source": [
        "Vamos a empezar definiendo nuestra clase `MLP`. Como ya hemos comentado, esta clase estará formada por una lista de capas y simplemente se encargará de calcular la salida del modelo aplicando cada capa de manera secuencial."
      ]
    },
    {
      "cell_type": "code",
      "execution_count": 1,
      "metadata": {
        "ExecuteTime": {
          "end_time": "2020-08-10T13:13:12.785890Z",
          "start_time": "2020-08-10T13:13:12.775889Z"
        },
        "id": "0Scv0kpEayqi"
      },
      "outputs": [],
      "source": [
        "class MLP:\n",
        "    def __init__(self, layers):\n",
        "        # el MLP es una lista de capas\n",
        "        self.layers = layers\n",
        "\n",
        "    def __call__(self, x):\n",
        "        # calculamos la salida del modelo aplicando\n",
        "        # cada capa de manera secuencial\n",
        "        for layer in self.layers:\n",
        "            x = layer(x)\n",
        "        return x"
      ]
    },
    {
      "cell_type": "markdown",
      "metadata": {
        "id": "xEcgs-dsayqj"
      },
      "source": [
        "Ahora definimos las diferentes capas que necesitamos. En primer lugar tendremos una clase base que contendrá los elementos y funcionalidad común de cada capa. Esta clase contendrá una lista con los parámetros entrenables de la capa y sus gradientes."
      ]
    },
    {
      "cell_type": "code",
      "execution_count": 2,
      "metadata": {
        "ExecuteTime": {
          "end_time": "2020-08-10T13:13:13.130767Z",
          "start_time": "2020-08-10T13:13:13.123088Z"
        },
        "id": "YDbcEtGLayqj"
      },
      "outputs": [],
      "source": [
        "class Layer():\n",
        "    def __init__(self):\n",
        "        self.params = []\n",
        "        self.grads = []\n",
        "\n",
        "    def __call__(self, x):\n",
        "        # por defecto, devolver los inputs\n",
        "        # cada capa hará algo diferente aquí\n",
        "        return x\n",
        "\n",
        "    def backward(self, grad):\n",
        "        # cada capa, calculará sus gradientes\n",
        "        # y los devolverá para las capas siguientes\n",
        "        return grad\n",
        "\n",
        "    def update(self, params):\n",
        "        # si hay parámetros, los actualizaremos\n",
        "        # con lo que nos de el optimizer\n",
        "        return"
      ]
    },
    {
      "cell_type": "markdown",
      "metadata": {
        "id": "aTjm2tn8ayqk"
      },
      "source": [
        "Ahora podemos definir las diferentes capas que utilizaremos. Hasta ahora sólo hemos visto la capa lineal y diferentes funciones de activación."
      ]
    },
    {
      "cell_type": "code",
      "execution_count": 3,
      "metadata": {
        "ExecuteTime": {
          "end_time": "2020-08-10T13:13:13.413081Z",
          "start_time": "2020-08-10T13:13:13.396082Z"
        },
        "id": "IXnQ29XJayqk"
      },
      "outputs": [],
      "source": [
        "class Linear(Layer):\n",
        "    def __init__(self, d_in, d_out):\n",
        "        # pesos de la capa\n",
        "        self.w = np.random.normal(loc=0.0,\n",
        "                                  scale=np.sqrt(2/(d_in+d_out)),\n",
        "                                  size=(d_in, d_out))\n",
        "        self.b = np.zeros(d_out)\n",
        "\n",
        "    def __call__(self, x):\n",
        "        self.x = x\n",
        "        self.params = [self.w, self.b]\n",
        "        # salida del preceptrón\n",
        "        return np.dot(x, self.w) + self.b    \n",
        "    \n",
        "    def backward(self, grad_output):\n",
        "        # gradientes para la capa siguiente (BACKPROP)\n",
        "        grad = np.dot(grad_output, self.w.T)\n",
        "        self.grad_w = np.dot(self.x.T, grad_output)\n",
        "        # gradientes para actualizar pesos\n",
        "        self.grad_b = grad_output.mean(axis=0)*self.x.shape[0]\n",
        "        self.grads = [self.grad_w, self.grad_b]\n",
        "        return grad\n",
        "\n",
        "    def update(self, params):\n",
        "        self.w, self.b = params"
      ]
    },
    {
      "cell_type": "code",
      "execution_count": 4,
      "metadata": {
        "ExecuteTime": {
          "end_time": "2020-08-10T13:13:13.553974Z",
          "start_time": "2020-08-10T13:13:13.534217Z"
        },
        "id": "lyaOmDbuayqk"
      },
      "outputs": [],
      "source": [
        "class ReLU(Layer):\n",
        "    def __call__(self, x):\n",
        "        self.x = x\n",
        "        return np.maximum(0, x)\n",
        "\n",
        "    def backward(self, grad_output):\n",
        "        grad = self.x > 0\n",
        "        return grad_output*grad\n",
        "    \n",
        "def sigmoid(x):\n",
        "  return 1 / (1 + np.exp(-x))\n",
        "\n",
        "def softmax(x):\n",
        "    return np.exp(x) / np.exp(x).sum(axis=-1,keepdims=True)\n",
        "\n",
        "class Sigmoid(Layer):    \n",
        "    def __call__(self, x):\n",
        "        self.x = x\n",
        "        return sigmoid(x)\n",
        "\n",
        "    def backward(self, grad_output):\n",
        "        grad = sigmoid(self.x)*(1 - sigmoid(self.x))\n",
        "        return grad_output*grad"
      ]
    },
    {
      "cell_type": "markdown",
      "metadata": {
        "id": "1XcsoBiVayql"
      },
      "source": [
        "## Optimizador"
      ]
    },
    {
      "cell_type": "markdown",
      "metadata": {
        "id": "sceLphVVayql"
      },
      "source": [
        "De momento solo conocemos un algoritmo de optimización, el `descenso por gradiente`. En este algoritmo, iteraremos por todas las capas del `MLP` actualizando los parámetros."
      ]
    },
    {
      "cell_type": "code",
      "execution_count": 5,
      "metadata": {
        "ExecuteTime": {
          "end_time": "2020-08-10T13:13:13.980603Z",
          "start_time": "2020-08-10T13:13:13.975081Z"
        },
        "id": "hDTShxeHayql"
      },
      "outputs": [],
      "source": [
        "class SGD():\n",
        "    def __init__(self, net, lr):\n",
        "        self.net = net\n",
        "        self.lr = lr\n",
        "\n",
        "    def update(self):\n",
        "        for layer in self.net.layers:\n",
        "            layer.update([\n",
        "                params - self.lr*grads\n",
        "                for params, grads in zip(layer.params, layer.grads)\n",
        "            ])"
      ]
    },
    {
      "cell_type": "markdown",
      "metadata": {
        "id": "Sk5vzPrhayqm"
      },
      "source": [
        "Puedes probar algoritmos de optimización diferentes simplemente creando una nueva clase con una regla distinta para la actualización de los pesos. En futuros posts exploraremos optimizadores alternativos. Esta clase sólo se encarga de aplicar los gradientes en una manera determinada para actualizar los pesos, el cálculo de los gradientes depende de cada capa en concreto."
      ]
    },
    {
      "cell_type": "markdown",
      "metadata": {
        "id": "MQIO1AxAayqm"
      },
      "source": [
        "## Funciones de pérdida"
      ]
    },
    {
      "cell_type": "markdown",
      "metadata": {
        "id": "7JW_5gI3ayqm"
      },
      "source": [
        "Del mismo modo que hemos hecho para las capas, vamos a implementar una clase base para calcular funciones de pérdida con la funcionalidad común y después tendremos clases particulares para las diferentes funciones de pérdida que conocemos."
      ]
    },
    {
      "cell_type": "code",
      "execution_count": 6,
      "metadata": {
        "ExecuteTime": {
          "end_time": "2020-08-10T13:13:14.563035Z",
          "start_time": "2020-08-10T13:13:14.545038Z"
        },
        "id": "-XxsDkavayqm"
      },
      "outputs": [],
      "source": [
        "class Loss():\n",
        "    def __init__(self, net):\n",
        "        self.net = net\n",
        "\n",
        "    def backward(self):\n",
        "        # derivada de la loss function con respecto \n",
        "        # a la salida del MLP\n",
        "        grad = self.grad_loss()\n",
        "        # BACKPROPAGATION\n",
        "        for layer in reversed(self.net.layers):\n",
        "            grad = layer.backward(grad)\n",
        "            \n",
        "class MSE(Loss):\n",
        "    def __call__(self, output, target):\n",
        "        self.output, self.target = output, target.reshape(output.shape)\n",
        "        loss = np.mean((self.output - self.target)**2)\n",
        "        return loss.mean()\n",
        "\n",
        "    def grad_loss(self):\n",
        "        return self.output -  self.target\n",
        "    \n",
        "class BCE(Loss):\n",
        "    def __call__(self, output, target):\n",
        "        self.output, self.target = output, target.reshape(output.shape)\n",
        "        loss = - np.mean(self.target*np.log(self.output) - (1 - self.target)*np.log(1 - self.output))\n",
        "        return loss.mean()\n",
        "\n",
        "    def grad_loss(self):\n",
        "        return self.output -  self.target\n",
        "            \n",
        "class CrossEntropy(Loss):\n",
        "    def __call__(self, output, target):\n",
        "        self.output, self.target = output, target\n",
        "        logits = output[np.arange(len(output)), target]\n",
        "        loss = - logits + np.log(np.sum(np.exp(output), axis=-1))\n",
        "        loss = loss.mean()\n",
        "        return loss\n",
        "\n",
        "    def grad_loss(self):\n",
        "        answers = np.zeros_like(self.output)\n",
        "        answers[np.arange(len(self.output)), self.target] = 1\n",
        "        return (- answers + softmax(self.output)) / self.output.shape[0]"
      ]
    },
    {
      "cell_type": "markdown",
      "metadata": {
        "id": "ZBp4uUQ4ayqn"
      },
      "source": [
        "La clase que utilicemos como función de pérdida tendrá la responsabilidad de llevar a cabo el algoritmo de `backpropagation`, propagando los gradientes desde la última capa hasta la primera para que, más tarde, el optimizador pueda actualizar los pesos."
      ]
    },
    {
      "cell_type": "markdown",
      "metadata": {
        "id": "SXTaZfDYayqn"
      },
      "source": [
        "## Probando la implementación"
      ]
    },
    {
      "cell_type": "markdown",
      "metadata": {
        "ExecuteTime": {
          "end_time": "2020-08-10T12:42:20.221071Z",
          "start_time": "2020-08-10T12:42:20.202060Z"
        },
        "id": "Uf535aq2ayqn"
      },
      "source": [
        "En este punto tenemos todas las clases que necesitamos para resolver nuestros casos de interés."
      ]
    },
    {
      "cell_type": "markdown",
      "metadata": {
        "id": "0aYUCL5yayqn"
      },
      "source": [
        "### Regresión"
      ]
    },
    {
      "cell_type": "markdown",
      "metadata": {
        "id": "SgFnozPMayqn"
      },
      "source": [
        "Empezamos con el caso de la regresión (en este caso directamente no lineal)."
      ]
    },
    {
      "cell_type": "code",
      "source": [
        "# utilizado para manejos de directorios y rutas\n",
        "import os\n",
        "\n",
        "# Computacion vectorial y cientifica para python\n",
        "import numpy as np\n",
        "import pandas as pd\n",
        "# Librerias para graficación (trazado de gráficos)\n",
        "from matplotlib import pyplot\n",
        "from mpl_toolkits.mplot3d import Axes3D  # Necesario para graficar superficies 3D\n",
        "import matplotlib.pyplot as plt\n",
        "# llama a matplotlib a embeber graficas dentro de los cuadernillos\n",
        "%matplotlib inline"
      ],
      "metadata": {
        "id": "JYrTaL89bndf"
      },
      "execution_count": 7,
      "outputs": []
    },
    {
      "cell_type": "code",
      "source": [
        "data = np.loadtxt('Dataset_Preg_2.csv', delimiter=';')\n",
        "X, y = data[:,: 8], data[:,8]\n",
        "print(X.shape, y.shape)"
      ],
      "metadata": {
        "id": "aLPbv_uabnGn",
        "colab": {
          "base_uri": "https://localhost:8080/"
        },
        "outputId": "64c9f85c-6b54-43ef-d606-27e82cb2057e"
      },
      "execution_count": 9,
      "outputs": [
        {
          "output_type": "stream",
          "name": "stdout",
          "text": [
            "(762, 8) (762,)\n"
          ]
        }
      ]
    },
    {
      "cell_type": "code",
      "source": [
        "X_mean, X_std = X.mean(axis=0), X.std(axis=0)\n",
        "X_norm = (X - X_mean) / X_std\n",
        "print(X_norm)\n",
        "#normalizando Y\n",
        "y_mean1, y_std1 = y.mean(axis=0), y.std(axis=0)\n",
        "y_norm = (y - y_mean1) / y_std1\n",
        "#print(\"datos de Y \")\n",
        "#print(y_norm)"
      ],
      "metadata": {
        "colab": {
          "base_uri": "https://localhost:8080/"
        },
        "id": "Vpyan6MqfV0A",
        "outputId": "b14b98f5-2fd4-4515-812e-7a0da2e66712"
      },
      "execution_count": 10,
      "outputs": [
        {
          "output_type": "stream",
          "name": "stdout",
          "text": [
            "[[-1.44654982 -0.19285322  1.18609689 ... -0.66913263  0.25190225\n",
            "  -0.84401395]\n",
            " [-1.35413944 -1.7701787  -0.80813099 ...  2.15568213 12.49518862\n",
            "   1.18481454]\n",
            " [-1.35413944 -1.7701787  -0.80813099 ...  2.15568213 12.49518862\n",
            "   1.18481454]\n",
            " ...\n",
            " [ 1.78781333  0.59580951 -0.4455441  ...  0.74327475 -0.01804313\n",
            "   1.18481454]\n",
            " [ 1.78781333  0.59580951 -0.4455441  ...  0.74327475 -0.01804313\n",
            "   1.18481454]\n",
            " [ 2.15745484  0.07003436 -0.45460878 ...  0.74327475  1.67077774\n",
            "   1.18481454]]\n"
          ]
        }
      ]
    },
    {
      "cell_type": "markdown",
      "metadata": {
        "id": "YPwNfihGayqo"
      },
      "source": [
        "Para ello usamos una función de activación de tipo `MSE` con una función de activación lineal en la última capa."
      ]
    },
    {
      "cell_type": "markdown",
      "metadata": {
        "id": "HvsbkFBoayqp"
      },
      "source": [
        "¿Y si queremos utilizar un `MLP` con más capas y más neuronas? Simplemente las añadimos a la lista."
      ]
    },
    {
      "cell_type": "code",
      "execution_count": 47,
      "metadata": {
        "ExecuteTime": {
          "end_time": "2020-08-10T13:13:23.222303Z",
          "start_time": "2020-08-10T13:13:23.080353Z"
        },
        "id": "WyLdylzJayqp",
        "outputId": "255bac17-035d-41bb-c5ed-1aa81b5a11f1",
        "colab": {
          "base_uri": "https://localhost:8080/"
        }
      },
      "outputs": [
        {
          "output_type": "stream",
          "name": "stdout",
          "text": [
            "Epoch 1000/50000, Loss: 0.3238\n",
            "Epoch 2000/50000, Loss: 0.1897\n",
            "Epoch 3000/50000, Loss: 0.1342\n",
            "Epoch 4000/50000, Loss: 0.1046\n",
            "Epoch 5000/50000, Loss: 0.0867\n",
            "Epoch 6000/50000, Loss: 0.0743\n",
            "Epoch 7000/50000, Loss: 0.0656\n",
            "Epoch 8000/50000, Loss: 0.0590\n",
            "Epoch 9000/50000, Loss: 0.0538\n",
            "Epoch 10000/50000, Loss: 0.0496\n",
            "Epoch 11000/50000, Loss: 0.0463\n",
            "Epoch 12000/50000, Loss: 0.0435\n",
            "Epoch 13000/50000, Loss: 0.0412\n",
            "Epoch 14000/50000, Loss: 0.0391\n",
            "Epoch 15000/50000, Loss: 0.0374\n",
            "Epoch 16000/50000, Loss: 0.0358\n",
            "Epoch 17000/50000, Loss: 0.0344\n",
            "Epoch 18000/50000, Loss: 0.0331\n",
            "Epoch 19000/50000, Loss: 0.0320\n",
            "Epoch 20000/50000, Loss: 0.0310\n",
            "Epoch 21000/50000, Loss: 0.0301\n",
            "Epoch 22000/50000, Loss: 0.0293\n",
            "Epoch 23000/50000, Loss: 0.0285\n",
            "Epoch 24000/50000, Loss: 0.0278\n",
            "Epoch 25000/50000, Loss: 0.0272\n",
            "Epoch 26000/50000, Loss: 0.0266\n",
            "Epoch 27000/50000, Loss: 0.0260\n",
            "Epoch 28000/50000, Loss: 0.0255\n",
            "Epoch 29000/50000, Loss: 0.0250\n",
            "Epoch 30000/50000, Loss: 0.0245\n",
            "Epoch 31000/50000, Loss: 0.0241\n",
            "Epoch 32000/50000, Loss: 0.0237\n",
            "Epoch 33000/50000, Loss: 0.0233\n",
            "Epoch 34000/50000, Loss: 0.0230\n",
            "Epoch 35000/50000, Loss: 0.0227\n",
            "Epoch 36000/50000, Loss: 0.0224\n",
            "Epoch 37000/50000, Loss: 0.0221\n",
            "Epoch 38000/50000, Loss: 0.0218\n",
            "Epoch 39000/50000, Loss: 0.0215\n",
            "Epoch 40000/50000, Loss: 0.0213\n",
            "Epoch 41000/50000, Loss: 0.0210\n",
            "Epoch 42000/50000, Loss: 0.0208\n",
            "Epoch 43000/50000, Loss: 0.0206\n",
            "Epoch 44000/50000, Loss: 0.0204\n",
            "Epoch 45000/50000, Loss: 0.0202\n",
            "Epoch 46000/50000, Loss: 0.0200\n",
            "Epoch 47000/50000, Loss: 0.0198\n",
            "Epoch 48000/50000, Loss: 0.0196\n",
            "Epoch 49000/50000, Loss: 0.0194\n",
            "Epoch 50000/50000, Loss: 0.0193\n"
          ]
        }
      ],
      "source": [
        "D_in, H, D_out = 8, 20, 1\n",
        "# añadimos más capas\n",
        "mlp = MLP([\n",
        "    Linear(D_in, H),\n",
        "    ReLU(),\n",
        "    Linear(H, H),\n",
        "    ReLU(),\n",
        "    Linear(H, H),\n",
        "    ReLU(),\n",
        "    Linear(H, H),\n",
        "    ReLU(),\n",
        "    Linear(H, H),\n",
        "    ReLU(),\n",
        "    Linear(H, D_out)\n",
        "])\n",
        "\n",
        "optimizer = SGD(mlp, lr=0.001)\n",
        "loss = MSE(mlp)\n",
        "\n",
        "epochs = 50000\n",
        "batch_size = 100\n",
        "\n",
        "batches = len(X) // batch_size\n",
        "log_each = 1000\n",
        "l = []\n",
        "for e in range(1,epochs+1):\n",
        "    _l = []\n",
        "    for b in range(batches):\n",
        "        x = X_norm[b*batch_size:(b+1)*batch_size]\n",
        "        y = y_norm[b*batch_size:(b+1)*batch_size] \n",
        "        y_pred = mlp(x)    \n",
        "        _l.append(loss(y_pred, y))\n",
        "        loss.backward()    \n",
        "        optimizer.update()\n",
        "    l.append(np.mean(_l))\n",
        "    if not e % log_each:\n",
        "        print(f'Epoch {e}/{epochs}, Loss: {np.mean(l):.4f}')"
      ]
    },
    {
      "cell_type": "code",
      "source": [
        "x_new1 = [34,2013,2800,4,2,3,88000,1]\n",
        "x_new2 = [36,2015,4000,4,2,3,130000,3]\n",
        "x_new3 = [19,2017,2300,5,2,2,48000,1]\n",
        "x_new = [2,2018,1800,5,1,3,60000,1]\n",
        "\n",
        "#x_new1 = (x_new1 - X_mean) / X_std\n",
        "y_pred1 = mlp(x_new1)\n",
        "print(y_pred1 )\n",
        "#x_new1 = (x_new1 - X_mean) / X_std \n",
        "y_pred2 = mlp(x_new2)\n",
        "print(y_pred2 )\n",
        "#x_new3 = (x_new3 - X_mean) / X_std \n",
        "y_pred3 = mlp(x_new3)\n",
        "print(y_pred3 )\n",
        "#x_new = (x_new - X_mean) / X_std\n",
        "y_pred = mlp(x_new)\n",
        "print(y_pred)"
      ],
      "metadata": {
        "colab": {
          "base_uri": "https://localhost:8080/"
        },
        "id": "7_JxdjcBhkkH",
        "outputId": "049518ad-8949-4b58-e90b-ec03716cb0e0"
      },
      "execution_count": 51,
      "outputs": [
        {
          "output_type": "stream",
          "name": "stdout",
          "text": [
            "[-14106.81179314]\n",
            "[-20877.686367]\n",
            "[-7943.703436]\n",
            "[-9553.78704039]\n"
          ]
        }
      ]
    },
    {
      "cell_type": "code",
      "source": [
        ""
      ],
      "metadata": {
        "id": "rAftJBOhljqv"
      },
      "execution_count": null,
      "outputs": []
    },
    {
      "cell_type": "code",
      "source": [
        ""
      ],
      "metadata": {
        "id": "r6xCx_BTljb3"
      },
      "execution_count": null,
      "outputs": []
    },
    {
      "cell_type": "code",
      "source": [
        "x_new1 = [2,2013,4000,4,3,3,136000,1]\n",
        "\n",
        "w = mlp.l[-1]\n",
        "x_new1 = (x_new1 - X_mean) / X_std\n",
        "y_pred = mlp.predict(w, x_new1)\n",
        "print(y_pred * y_mean1)"
      ],
      "metadata": {
        "colab": {
          "base_uri": "https://localhost:8080/",
          "height": 235
        },
        "id": "iYOpg75qhkaH",
        "outputId": "bf91c128-17f4-475b-9bc9-0f58c10c983e"
      },
      "execution_count": 54,
      "outputs": [
        {
          "output_type": "error",
          "ename": "AttributeError",
          "evalue": "ignored",
          "traceback": [
            "\u001b[0;31m---------------------------------------------------------------------------\u001b[0m",
            "\u001b[0;31mAttributeError\u001b[0m                            Traceback (most recent call last)",
            "\u001b[0;32m<ipython-input-54-1d872edef1be>\u001b[0m in \u001b[0;36m<module>\u001b[0;34m()\u001b[0m\n\u001b[1;32m      1\u001b[0m \u001b[0mx_new1\u001b[0m \u001b[0;34m=\u001b[0m \u001b[0;34m[\u001b[0m\u001b[0;36m2\u001b[0m\u001b[0;34m,\u001b[0m\u001b[0;36m2013\u001b[0m\u001b[0;34m,\u001b[0m\u001b[0;36m4000\u001b[0m\u001b[0;34m,\u001b[0m\u001b[0;36m4\u001b[0m\u001b[0;34m,\u001b[0m\u001b[0;36m3\u001b[0m\u001b[0;34m,\u001b[0m\u001b[0;36m3\u001b[0m\u001b[0;34m,\u001b[0m\u001b[0;36m136000\u001b[0m\u001b[0;34m,\u001b[0m\u001b[0;36m1\u001b[0m\u001b[0;34m]\u001b[0m\u001b[0;34m\u001b[0m\u001b[0;34m\u001b[0m\u001b[0m\n\u001b[1;32m      2\u001b[0m \u001b[0;34m\u001b[0m\u001b[0m\n\u001b[0;32m----> 3\u001b[0;31m \u001b[0mw\u001b[0m \u001b[0;34m=\u001b[0m \u001b[0mmlp\u001b[0m\u001b[0;34m.\u001b[0m\u001b[0ml\u001b[0m\u001b[0;34m[\u001b[0m\u001b[0;34m-\u001b[0m\u001b[0;36m1\u001b[0m\u001b[0;34m]\u001b[0m\u001b[0;34m\u001b[0m\u001b[0;34m\u001b[0m\u001b[0m\n\u001b[0m\u001b[1;32m      4\u001b[0m \u001b[0mx_new1\u001b[0m \u001b[0;34m=\u001b[0m \u001b[0;34m(\u001b[0m\u001b[0mx_new1\u001b[0m \u001b[0;34m-\u001b[0m \u001b[0mX_mean\u001b[0m\u001b[0;34m)\u001b[0m \u001b[0;34m/\u001b[0m \u001b[0mX_std\u001b[0m\u001b[0;34m\u001b[0m\u001b[0;34m\u001b[0m\u001b[0m\n\u001b[1;32m      5\u001b[0m \u001b[0my_pred\u001b[0m \u001b[0;34m=\u001b[0m \u001b[0mmlp\u001b[0m\u001b[0;34m.\u001b[0m\u001b[0mpredict\u001b[0m\u001b[0;34m(\u001b[0m\u001b[0mw\u001b[0m\u001b[0;34m,\u001b[0m \u001b[0mx_new1\u001b[0m\u001b[0;34m)\u001b[0m\u001b[0;34m\u001b[0m\u001b[0;34m\u001b[0m\u001b[0m\n",
            "\u001b[0;31mAttributeError\u001b[0m: 'MLP' object has no attribute 'l'"
          ]
        }
      ]
    },
    {
      "cell_type": "code",
      "source": [
        ""
      ],
      "metadata": {
        "id": "yicCudGghkLH"
      },
      "execution_count": null,
      "outputs": []
    },
    {
      "cell_type": "code",
      "execution_count": null,
      "metadata": {
        "ExecuteTime": {
          "end_time": "2020-08-10T13:13:24.848984Z",
          "start_time": "2020-08-10T13:13:24.740752Z"
        },
        "id": "JNru1OCsayqp",
        "outputId": "79898a38-f090-41b5-e49a-b1d555fa6dc5"
      },
      "outputs": [
        {
          "data": {
            "image/png": "[encoded data removed]",
            "text/plain": [
              "<Figure size 432x288 with 1 Axes>"
            ]
          },
          "metadata": {
            "needs_background": "light"
          },
          "output_type": "display_data"
        }
      ],
      "source": [
        "x_new = np.linspace(-3, 3, 100)\n",
        "x_new = x_new.reshape(len(x_new),1)\n",
        "y_pred = mlp(x_new)\n",
        "    \n",
        "plt.plot(X, Y, \"b.\")\n",
        "plt.plot(x_new, y_pred, \"-k\")\n",
        "plt.xlabel(\"$x_1$\", fontsize=14)\n",
        "plt.ylabel(\"$y$\", rotation=0, fontsize=14)\n",
        "plt.grid(True)\n",
        "plt.show()"
      ]
    },
    {
      "cell_type": "markdown",
      "metadata": {
        "id": "_LdC8303ayqq"
      },
      "source": [
        "Nuestro framework es capaz de llevar a cabo la tarea de regresión, y si ahora queremos llevar a cabo tareas de clasificación es tan sencillo como cambiar la función de pérdida y de activación en la clase `MLP`."
      ]
    },
    {
      "cell_type": "markdown",
      "metadata": {
        "id": "AsQ1C0iWayqv"
      },
      "source": [
        "## Resumen"
      ]
    },
    {
      "cell_type": "markdown",
      "metadata": {
        "id": "snTjYKfWayqv"
      },
      "source": [
        "En este post hemos visto como podemos implementar nuestro propio framework de perceptrón multicapa. Las ideas expuestas son muy similares a las utilizadas internamente por frameworks de `redes neuronales` como `Pytorch` o `Tensorflow`, lo cual nos permitirá conocer en detalle como funcionan estos frameworks a la hora de trabajar con arquitecturas más complicadas. Nuestro framework es flexible, ya que con la misma interfaz es capaz de llevar a cabo las diferentes tareas y de manera muy sencilla podemos probar diferentes arquitecturas de `MLP` con más o menos capas, diferentes funciones de pérdida y de activación, etc. En este [post](https://sensioai.com/blog/017_clasificacion_multiclase) utilizamos el dataset MNIST para clasificación de imágenes, ¿te ves capaz de utilizar nuestro framework para esta tarea?"
      ]
    }
  ],
  "metadata": {
    "kernelspec": {
      "display_name": "Python 3",
      "language": "python",
      "name": "python3"
    },
    "language_info": {
      "codemirror_mode": {
        "name": "ipython",
        "version": 3
      },
      "file_extension": ".py",
      "mimetype": "text/x-python",
      "name": "python",
      "nbconvert_exporter": "python",
      "pygments_lexer": "ipython3",
      "version": "3.7.6"
    },
    "toc": {
      "base_numbering": 1,
      "nav_menu": {},
      "number_sections": true,
      "sideBar": true,
      "skip_h1_title": false,
      "title_cell": "Table of Contents",
      "title_sidebar": "Contents",
      "toc_cell": false,
      "toc_position": {
        "height": "calc(100% - 180px)",
        "left": "10px",
        "top": "150px",
        "width": "233.594px"
      },
      "toc_section_display": true,
      "toc_window_display": false
    },
    "colab": {
      "name": "MLP_Red_Neu_Ejecio_2_final.ipynb",
      "provenance": [],
      "include_colab_link": true
    }
  },
  "nbformat": 4,
  "nbformat_minor": 0
}